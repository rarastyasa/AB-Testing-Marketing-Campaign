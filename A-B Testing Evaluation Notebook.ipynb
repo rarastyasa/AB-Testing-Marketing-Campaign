{
  "nbformat": 4,
  "nbformat_minor": 0,
  "metadata": {
    "colab": {
      "provenance": []
    },
    "kernelspec": {
      "name": "python3",
      "display_name": "Python 3"
    },
    "language_info": {
      "name": "python"
    }
  },
  "cells": [
    {
      "cell_type": "markdown",
      "source": [
        "#Evaluate A/B Test"
      ],
      "metadata": {
        "id": "OA1vd12tAhuh"
      }
    },
    {
      "cell_type": "markdown",
      "source": [
        "## Evaluate Success Matric"
      ],
      "metadata": {
        "id": "Q4Xa01R8CZVI"
      }
    },
    {
      "cell_type": "code",
      "execution_count": null,
      "metadata": {
        "id": "sEaAShPFUr2H"
      },
      "outputs": [],
      "source": [
        "#Import library yang diperlukan\n",
        "import numpy as np\n",
        "import pandas as pd\n",
        "import os\n",
        "\n",
        "pd.options.display.max_columns = 999\n",
        "pd.options.display.float_format = \"{:.2f}\".format"
      ]
    },
    {
      "cell_type": "code",
      "source": [
        "#import dataset\n",
        "df_marketing= pd.read_csv('/content/marketing_AB.csv')\n",
        "\n",
        "#Menampilkan dataset\n",
        "df_marketing.head(10)"
      ],
      "metadata": {
        "colab": {
          "base_uri": "https://localhost:8080/",
          "height": 363
        },
        "id": "fjpZ0WNRU1X5",
        "outputId": "4ac16a92-1627-4868-c483-b2473cd3f2d0"
      },
      "execution_count": null,
      "outputs": [
        {
          "output_type": "execute_result",
          "data": {
            "text/plain": [
              "   Unnamed: 0  user id test group  converted  total ads most ads day  \\\n",
              "0           0  1069124         ad      False        130       Monday   \n",
              "1           1  1119715         ad      False         93      Tuesday   \n",
              "2           2  1144181         ad      False         21      Tuesday   \n",
              "3           3  1435133         ad      False        355      Tuesday   \n",
              "4           4  1015700         ad      False        276       Friday   \n",
              "5           5  1137664         ad      False        734     Saturday   \n",
              "6           6  1116205         ad      False        264    Wednesday   \n",
              "7           7  1496843         ad      False         17       Sunday   \n",
              "8           8  1448851         ad      False         21      Tuesday   \n",
              "9           9  1446284         ad      False        142       Monday   \n",
              "\n",
              "   most ads hour  \n",
              "0             20  \n",
              "1             22  \n",
              "2             18  \n",
              "3             10  \n",
              "4             14  \n",
              "5             10  \n",
              "6             13  \n",
              "7             18  \n",
              "8             19  \n",
              "9             14  "
            ],
            "text/html": [
              "\n",
              "  <div id=\"df-3e809810-c5c7-4236-8a38-e568c1dfdaa3\" class=\"colab-df-container\">\n",
              "    <div>\n",
              "<style scoped>\n",
              "    .dataframe tbody tr th:only-of-type {\n",
              "        vertical-align: middle;\n",
              "    }\n",
              "\n",
              "    .dataframe tbody tr th {\n",
              "        vertical-align: top;\n",
              "    }\n",
              "\n",
              "    .dataframe thead th {\n",
              "        text-align: right;\n",
              "    }\n",
              "</style>\n",
              "<table border=\"1\" class=\"dataframe\">\n",
              "  <thead>\n",
              "    <tr style=\"text-align: right;\">\n",
              "      <th></th>\n",
              "      <th>Unnamed: 0</th>\n",
              "      <th>user id</th>\n",
              "      <th>test group</th>\n",
              "      <th>converted</th>\n",
              "      <th>total ads</th>\n",
              "      <th>most ads day</th>\n",
              "      <th>most ads hour</th>\n",
              "    </tr>\n",
              "  </thead>\n",
              "  <tbody>\n",
              "    <tr>\n",
              "      <th>0</th>\n",
              "      <td>0</td>\n",
              "      <td>1069124</td>\n",
              "      <td>ad</td>\n",
              "      <td>False</td>\n",
              "      <td>130</td>\n",
              "      <td>Monday</td>\n",
              "      <td>20</td>\n",
              "    </tr>\n",
              "    <tr>\n",
              "      <th>1</th>\n",
              "      <td>1</td>\n",
              "      <td>1119715</td>\n",
              "      <td>ad</td>\n",
              "      <td>False</td>\n",
              "      <td>93</td>\n",
              "      <td>Tuesday</td>\n",
              "      <td>22</td>\n",
              "    </tr>\n",
              "    <tr>\n",
              "      <th>2</th>\n",
              "      <td>2</td>\n",
              "      <td>1144181</td>\n",
              "      <td>ad</td>\n",
              "      <td>False</td>\n",
              "      <td>21</td>\n",
              "      <td>Tuesday</td>\n",
              "      <td>18</td>\n",
              "    </tr>\n",
              "    <tr>\n",
              "      <th>3</th>\n",
              "      <td>3</td>\n",
              "      <td>1435133</td>\n",
              "      <td>ad</td>\n",
              "      <td>False</td>\n",
              "      <td>355</td>\n",
              "      <td>Tuesday</td>\n",
              "      <td>10</td>\n",
              "    </tr>\n",
              "    <tr>\n",
              "      <th>4</th>\n",
              "      <td>4</td>\n",
              "      <td>1015700</td>\n",
              "      <td>ad</td>\n",
              "      <td>False</td>\n",
              "      <td>276</td>\n",
              "      <td>Friday</td>\n",
              "      <td>14</td>\n",
              "    </tr>\n",
              "    <tr>\n",
              "      <th>5</th>\n",
              "      <td>5</td>\n",
              "      <td>1137664</td>\n",
              "      <td>ad</td>\n",
              "      <td>False</td>\n",
              "      <td>734</td>\n",
              "      <td>Saturday</td>\n",
              "      <td>10</td>\n",
              "    </tr>\n",
              "    <tr>\n",
              "      <th>6</th>\n",
              "      <td>6</td>\n",
              "      <td>1116205</td>\n",
              "      <td>ad</td>\n",
              "      <td>False</td>\n",
              "      <td>264</td>\n",
              "      <td>Wednesday</td>\n",
              "      <td>13</td>\n",
              "    </tr>\n",
              "    <tr>\n",
              "      <th>7</th>\n",
              "      <td>7</td>\n",
              "      <td>1496843</td>\n",
              "      <td>ad</td>\n",
              "      <td>False</td>\n",
              "      <td>17</td>\n",
              "      <td>Sunday</td>\n",
              "      <td>18</td>\n",
              "    </tr>\n",
              "    <tr>\n",
              "      <th>8</th>\n",
              "      <td>8</td>\n",
              "      <td>1448851</td>\n",
              "      <td>ad</td>\n",
              "      <td>False</td>\n",
              "      <td>21</td>\n",
              "      <td>Tuesday</td>\n",
              "      <td>19</td>\n",
              "    </tr>\n",
              "    <tr>\n",
              "      <th>9</th>\n",
              "      <td>9</td>\n",
              "      <td>1446284</td>\n",
              "      <td>ad</td>\n",
              "      <td>False</td>\n",
              "      <td>142</td>\n",
              "      <td>Monday</td>\n",
              "      <td>14</td>\n",
              "    </tr>\n",
              "  </tbody>\n",
              "</table>\n",
              "</div>\n",
              "    <div class=\"colab-df-buttons\">\n",
              "\n",
              "  <div class=\"colab-df-container\">\n",
              "    <button class=\"colab-df-convert\" onclick=\"convertToInteractive('df-3e809810-c5c7-4236-8a38-e568c1dfdaa3')\"\n",
              "            title=\"Convert this dataframe to an interactive table.\"\n",
              "            style=\"display:none;\">\n",
              "\n",
              "  <svg xmlns=\"http://www.w3.org/2000/svg\" height=\"24px\" viewBox=\"0 -960 960 960\">\n",
              "    <path d=\"M120-120v-720h720v720H120Zm60-500h600v-160H180v160Zm220 220h160v-160H400v160Zm0 220h160v-160H400v160ZM180-400h160v-160H180v160Zm440 0h160v-160H620v160ZM180-180h160v-160H180v160Zm440 0h160v-160H620v160Z\"/>\n",
              "  </svg>\n",
              "    </button>\n",
              "\n",
              "  <style>\n",
              "    .colab-df-container {\n",
              "      display:flex;\n",
              "      gap: 12px;\n",
              "    }\n",
              "\n",
              "    .colab-df-convert {\n",
              "      background-color: #E8F0FE;\n",
              "      border: none;\n",
              "      border-radius: 50%;\n",
              "      cursor: pointer;\n",
              "      display: none;\n",
              "      fill: #1967D2;\n",
              "      height: 32px;\n",
              "      padding: 0 0 0 0;\n",
              "      width: 32px;\n",
              "    }\n",
              "\n",
              "    .colab-df-convert:hover {\n",
              "      background-color: #E2EBFA;\n",
              "      box-shadow: 0px 1px 2px rgba(60, 64, 67, 0.3), 0px 1px 3px 1px rgba(60, 64, 67, 0.15);\n",
              "      fill: #174EA6;\n",
              "    }\n",
              "\n",
              "    .colab-df-buttons div {\n",
              "      margin-bottom: 4px;\n",
              "    }\n",
              "\n",
              "    [theme=dark] .colab-df-convert {\n",
              "      background-color: #3B4455;\n",
              "      fill: #D2E3FC;\n",
              "    }\n",
              "\n",
              "    [theme=dark] .colab-df-convert:hover {\n",
              "      background-color: #434B5C;\n",
              "      box-shadow: 0px 1px 3px 1px rgba(0, 0, 0, 0.15);\n",
              "      filter: drop-shadow(0px 1px 2px rgba(0, 0, 0, 0.3));\n",
              "      fill: #FFFFFF;\n",
              "    }\n",
              "  </style>\n",
              "\n",
              "    <script>\n",
              "      const buttonEl =\n",
              "        document.querySelector('#df-3e809810-c5c7-4236-8a38-e568c1dfdaa3 button.colab-df-convert');\n",
              "      buttonEl.style.display =\n",
              "        google.colab.kernel.accessAllowed ? 'block' : 'none';\n",
              "\n",
              "      async function convertToInteractive(key) {\n",
              "        const element = document.querySelector('#df-3e809810-c5c7-4236-8a38-e568c1dfdaa3');\n",
              "        const dataTable =\n",
              "          await google.colab.kernel.invokeFunction('convertToInteractive',\n",
              "                                                    [key], {});\n",
              "        if (!dataTable) return;\n",
              "\n",
              "        const docLinkHtml = 'Like what you see? Visit the ' +\n",
              "          '<a target=\"_blank\" href=https://colab.research.google.com/notebooks/data_table.ipynb>data table notebook</a>'\n",
              "          + ' to learn more about interactive tables.';\n",
              "        element.innerHTML = '';\n",
              "        dataTable['output_type'] = 'display_data';\n",
              "        await google.colab.output.renderOutput(dataTable, element);\n",
              "        const docLink = document.createElement('div');\n",
              "        docLink.innerHTML = docLinkHtml;\n",
              "        element.appendChild(docLink);\n",
              "      }\n",
              "    </script>\n",
              "  </div>\n",
              "\n",
              "\n",
              "    <div id=\"df-bd25d240-f0d6-40d8-b1f1-ca5ab93b728d\">\n",
              "      <button class=\"colab-df-quickchart\" onclick=\"quickchart('df-bd25d240-f0d6-40d8-b1f1-ca5ab93b728d')\"\n",
              "                title=\"Suggest charts\"\n",
              "                style=\"display:none;\">\n",
              "\n",
              "<svg xmlns=\"http://www.w3.org/2000/svg\" height=\"24px\"viewBox=\"0 0 24 24\"\n",
              "     width=\"24px\">\n",
              "    <g>\n",
              "        <path d=\"M19 3H5c-1.1 0-2 .9-2 2v14c0 1.1.9 2 2 2h14c1.1 0 2-.9 2-2V5c0-1.1-.9-2-2-2zM9 17H7v-7h2v7zm4 0h-2V7h2v10zm4 0h-2v-4h2v4z\"/>\n",
              "    </g>\n",
              "</svg>\n",
              "      </button>\n",
              "\n",
              "<style>\n",
              "  .colab-df-quickchart {\n",
              "      --bg-color: #E8F0FE;\n",
              "      --fill-color: #1967D2;\n",
              "      --hover-bg-color: #E2EBFA;\n",
              "      --hover-fill-color: #174EA6;\n",
              "      --disabled-fill-color: #AAA;\n",
              "      --disabled-bg-color: #DDD;\n",
              "  }\n",
              "\n",
              "  [theme=dark] .colab-df-quickchart {\n",
              "      --bg-color: #3B4455;\n",
              "      --fill-color: #D2E3FC;\n",
              "      --hover-bg-color: #434B5C;\n",
              "      --hover-fill-color: #FFFFFF;\n",
              "      --disabled-bg-color: #3B4455;\n",
              "      --disabled-fill-color: #666;\n",
              "  }\n",
              "\n",
              "  .colab-df-quickchart {\n",
              "    background-color: var(--bg-color);\n",
              "    border: none;\n",
              "    border-radius: 50%;\n",
              "    cursor: pointer;\n",
              "    display: none;\n",
              "    fill: var(--fill-color);\n",
              "    height: 32px;\n",
              "    padding: 0;\n",
              "    width: 32px;\n",
              "  }\n",
              "\n",
              "  .colab-df-quickchart:hover {\n",
              "    background-color: var(--hover-bg-color);\n",
              "    box-shadow: 0 1px 2px rgba(60, 64, 67, 0.3), 0 1px 3px 1px rgba(60, 64, 67, 0.15);\n",
              "    fill: var(--button-hover-fill-color);\n",
              "  }\n",
              "\n",
              "  .colab-df-quickchart-complete:disabled,\n",
              "  .colab-df-quickchart-complete:disabled:hover {\n",
              "    background-color: var(--disabled-bg-color);\n",
              "    fill: var(--disabled-fill-color);\n",
              "    box-shadow: none;\n",
              "  }\n",
              "\n",
              "  .colab-df-spinner {\n",
              "    border: 2px solid var(--fill-color);\n",
              "    border-color: transparent;\n",
              "    border-bottom-color: var(--fill-color);\n",
              "    animation:\n",
              "      spin 1s steps(1) infinite;\n",
              "  }\n",
              "\n",
              "  @keyframes spin {\n",
              "    0% {\n",
              "      border-color: transparent;\n",
              "      border-bottom-color: var(--fill-color);\n",
              "      border-left-color: var(--fill-color);\n",
              "    }\n",
              "    20% {\n",
              "      border-color: transparent;\n",
              "      border-left-color: var(--fill-color);\n",
              "      border-top-color: var(--fill-color);\n",
              "    }\n",
              "    30% {\n",
              "      border-color: transparent;\n",
              "      border-left-color: var(--fill-color);\n",
              "      border-top-color: var(--fill-color);\n",
              "      border-right-color: var(--fill-color);\n",
              "    }\n",
              "    40% {\n",
              "      border-color: transparent;\n",
              "      border-right-color: var(--fill-color);\n",
              "      border-top-color: var(--fill-color);\n",
              "    }\n",
              "    60% {\n",
              "      border-color: transparent;\n",
              "      border-right-color: var(--fill-color);\n",
              "    }\n",
              "    80% {\n",
              "      border-color: transparent;\n",
              "      border-right-color: var(--fill-color);\n",
              "      border-bottom-color: var(--fill-color);\n",
              "    }\n",
              "    90% {\n",
              "      border-color: transparent;\n",
              "      border-bottom-color: var(--fill-color);\n",
              "    }\n",
              "  }\n",
              "</style>\n",
              "\n",
              "      <script>\n",
              "        async function quickchart(key) {\n",
              "          const quickchartButtonEl =\n",
              "            document.querySelector('#' + key + ' button');\n",
              "          quickchartButtonEl.disabled = true;  // To prevent multiple clicks.\n",
              "          quickchartButtonEl.classList.add('colab-df-spinner');\n",
              "          try {\n",
              "            const charts = await google.colab.kernel.invokeFunction(\n",
              "                'suggestCharts', [key], {});\n",
              "          } catch (error) {\n",
              "            console.error('Error during call to suggestCharts:', error);\n",
              "          }\n",
              "          quickchartButtonEl.classList.remove('colab-df-spinner');\n",
              "          quickchartButtonEl.classList.add('colab-df-quickchart-complete');\n",
              "        }\n",
              "        (() => {\n",
              "          let quickchartButtonEl =\n",
              "            document.querySelector('#df-bd25d240-f0d6-40d8-b1f1-ca5ab93b728d button');\n",
              "          quickchartButtonEl.style.display =\n",
              "            google.colab.kernel.accessAllowed ? 'block' : 'none';\n",
              "        })();\n",
              "      </script>\n",
              "    </div>\n",
              "\n",
              "    </div>\n",
              "  </div>\n"
            ],
            "application/vnd.google.colaboratory.intrinsic+json": {
              "type": "dataframe",
              "variable_name": "df_marketing"
            }
          },
          "metadata": {},
          "execution_count": 42
        }
      ]
    },
    {
      "cell_type": "code",
      "source": [
        "#Menghilangkan kolom angka\n",
        "df_marketing.drop('Unnamed: 0', axis=1, inplace=True)"
      ],
      "metadata": {
        "id": "9bC7aT7GVFRW"
      },
      "execution_count": null,
      "outputs": []
    },
    {
      "cell_type": "code",
      "source": [
        "#Menampilkan kembali dataset\n",
        "df_marketing.head(10)"
      ],
      "metadata": {
        "colab": {
          "base_uri": "https://localhost:8080/",
          "height": 363
        },
        "id": "z7Jin40IVii5",
        "outputId": "d34afef9-0348-4bb9-cf4d-b4cce521cf6e"
      },
      "execution_count": null,
      "outputs": [
        {
          "output_type": "execute_result",
          "data": {
            "text/plain": [
              "   user id test group  converted  total ads most ads day  most ads hour\n",
              "0  1069124         ad      False        130       Monday             20\n",
              "1  1119715         ad      False         93      Tuesday             22\n",
              "2  1144181         ad      False         21      Tuesday             18\n",
              "3  1435133         ad      False        355      Tuesday             10\n",
              "4  1015700         ad      False        276       Friday             14\n",
              "5  1137664         ad      False        734     Saturday             10\n",
              "6  1116205         ad      False        264    Wednesday             13\n",
              "7  1496843         ad      False         17       Sunday             18\n",
              "8  1448851         ad      False         21      Tuesday             19\n",
              "9  1446284         ad      False        142       Monday             14"
            ],
            "text/html": [
              "\n",
              "  <div id=\"df-f5948002-490c-4846-9b9f-30dc8a001854\" class=\"colab-df-container\">\n",
              "    <div>\n",
              "<style scoped>\n",
              "    .dataframe tbody tr th:only-of-type {\n",
              "        vertical-align: middle;\n",
              "    }\n",
              "\n",
              "    .dataframe tbody tr th {\n",
              "        vertical-align: top;\n",
              "    }\n",
              "\n",
              "    .dataframe thead th {\n",
              "        text-align: right;\n",
              "    }\n",
              "</style>\n",
              "<table border=\"1\" class=\"dataframe\">\n",
              "  <thead>\n",
              "    <tr style=\"text-align: right;\">\n",
              "      <th></th>\n",
              "      <th>user id</th>\n",
              "      <th>test group</th>\n",
              "      <th>converted</th>\n",
              "      <th>total ads</th>\n",
              "      <th>most ads day</th>\n",
              "      <th>most ads hour</th>\n",
              "    </tr>\n",
              "  </thead>\n",
              "  <tbody>\n",
              "    <tr>\n",
              "      <th>0</th>\n",
              "      <td>1069124</td>\n",
              "      <td>ad</td>\n",
              "      <td>False</td>\n",
              "      <td>130</td>\n",
              "      <td>Monday</td>\n",
              "      <td>20</td>\n",
              "    </tr>\n",
              "    <tr>\n",
              "      <th>1</th>\n",
              "      <td>1119715</td>\n",
              "      <td>ad</td>\n",
              "      <td>False</td>\n",
              "      <td>93</td>\n",
              "      <td>Tuesday</td>\n",
              "      <td>22</td>\n",
              "    </tr>\n",
              "    <tr>\n",
              "      <th>2</th>\n",
              "      <td>1144181</td>\n",
              "      <td>ad</td>\n",
              "      <td>False</td>\n",
              "      <td>21</td>\n",
              "      <td>Tuesday</td>\n",
              "      <td>18</td>\n",
              "    </tr>\n",
              "    <tr>\n",
              "      <th>3</th>\n",
              "      <td>1435133</td>\n",
              "      <td>ad</td>\n",
              "      <td>False</td>\n",
              "      <td>355</td>\n",
              "      <td>Tuesday</td>\n",
              "      <td>10</td>\n",
              "    </tr>\n",
              "    <tr>\n",
              "      <th>4</th>\n",
              "      <td>1015700</td>\n",
              "      <td>ad</td>\n",
              "      <td>False</td>\n",
              "      <td>276</td>\n",
              "      <td>Friday</td>\n",
              "      <td>14</td>\n",
              "    </tr>\n",
              "    <tr>\n",
              "      <th>5</th>\n",
              "      <td>1137664</td>\n",
              "      <td>ad</td>\n",
              "      <td>False</td>\n",
              "      <td>734</td>\n",
              "      <td>Saturday</td>\n",
              "      <td>10</td>\n",
              "    </tr>\n",
              "    <tr>\n",
              "      <th>6</th>\n",
              "      <td>1116205</td>\n",
              "      <td>ad</td>\n",
              "      <td>False</td>\n",
              "      <td>264</td>\n",
              "      <td>Wednesday</td>\n",
              "      <td>13</td>\n",
              "    </tr>\n",
              "    <tr>\n",
              "      <th>7</th>\n",
              "      <td>1496843</td>\n",
              "      <td>ad</td>\n",
              "      <td>False</td>\n",
              "      <td>17</td>\n",
              "      <td>Sunday</td>\n",
              "      <td>18</td>\n",
              "    </tr>\n",
              "    <tr>\n",
              "      <th>8</th>\n",
              "      <td>1448851</td>\n",
              "      <td>ad</td>\n",
              "      <td>False</td>\n",
              "      <td>21</td>\n",
              "      <td>Tuesday</td>\n",
              "      <td>19</td>\n",
              "    </tr>\n",
              "    <tr>\n",
              "      <th>9</th>\n",
              "      <td>1446284</td>\n",
              "      <td>ad</td>\n",
              "      <td>False</td>\n",
              "      <td>142</td>\n",
              "      <td>Monday</td>\n",
              "      <td>14</td>\n",
              "    </tr>\n",
              "  </tbody>\n",
              "</table>\n",
              "</div>\n",
              "    <div class=\"colab-df-buttons\">\n",
              "\n",
              "  <div class=\"colab-df-container\">\n",
              "    <button class=\"colab-df-convert\" onclick=\"convertToInteractive('df-f5948002-490c-4846-9b9f-30dc8a001854')\"\n",
              "            title=\"Convert this dataframe to an interactive table.\"\n",
              "            style=\"display:none;\">\n",
              "\n",
              "  <svg xmlns=\"http://www.w3.org/2000/svg\" height=\"24px\" viewBox=\"0 -960 960 960\">\n",
              "    <path d=\"M120-120v-720h720v720H120Zm60-500h600v-160H180v160Zm220 220h160v-160H400v160Zm0 220h160v-160H400v160ZM180-400h160v-160H180v160Zm440 0h160v-160H620v160ZM180-180h160v-160H180v160Zm440 0h160v-160H620v160Z\"/>\n",
              "  </svg>\n",
              "    </button>\n",
              "\n",
              "  <style>\n",
              "    .colab-df-container {\n",
              "      display:flex;\n",
              "      gap: 12px;\n",
              "    }\n",
              "\n",
              "    .colab-df-convert {\n",
              "      background-color: #E8F0FE;\n",
              "      border: none;\n",
              "      border-radius: 50%;\n",
              "      cursor: pointer;\n",
              "      display: none;\n",
              "      fill: #1967D2;\n",
              "      height: 32px;\n",
              "      padding: 0 0 0 0;\n",
              "      width: 32px;\n",
              "    }\n",
              "\n",
              "    .colab-df-convert:hover {\n",
              "      background-color: #E2EBFA;\n",
              "      box-shadow: 0px 1px 2px rgba(60, 64, 67, 0.3), 0px 1px 3px 1px rgba(60, 64, 67, 0.15);\n",
              "      fill: #174EA6;\n",
              "    }\n",
              "\n",
              "    .colab-df-buttons div {\n",
              "      margin-bottom: 4px;\n",
              "    }\n",
              "\n",
              "    [theme=dark] .colab-df-convert {\n",
              "      background-color: #3B4455;\n",
              "      fill: #D2E3FC;\n",
              "    }\n",
              "\n",
              "    [theme=dark] .colab-df-convert:hover {\n",
              "      background-color: #434B5C;\n",
              "      box-shadow: 0px 1px 3px 1px rgba(0, 0, 0, 0.15);\n",
              "      filter: drop-shadow(0px 1px 2px rgba(0, 0, 0, 0.3));\n",
              "      fill: #FFFFFF;\n",
              "    }\n",
              "  </style>\n",
              "\n",
              "    <script>\n",
              "      const buttonEl =\n",
              "        document.querySelector('#df-f5948002-490c-4846-9b9f-30dc8a001854 button.colab-df-convert');\n",
              "      buttonEl.style.display =\n",
              "        google.colab.kernel.accessAllowed ? 'block' : 'none';\n",
              "\n",
              "      async function convertToInteractive(key) {\n",
              "        const element = document.querySelector('#df-f5948002-490c-4846-9b9f-30dc8a001854');\n",
              "        const dataTable =\n",
              "          await google.colab.kernel.invokeFunction('convertToInteractive',\n",
              "                                                    [key], {});\n",
              "        if (!dataTable) return;\n",
              "\n",
              "        const docLinkHtml = 'Like what you see? Visit the ' +\n",
              "          '<a target=\"_blank\" href=https://colab.research.google.com/notebooks/data_table.ipynb>data table notebook</a>'\n",
              "          + ' to learn more about interactive tables.';\n",
              "        element.innerHTML = '';\n",
              "        dataTable['output_type'] = 'display_data';\n",
              "        await google.colab.output.renderOutput(dataTable, element);\n",
              "        const docLink = document.createElement('div');\n",
              "        docLink.innerHTML = docLinkHtml;\n",
              "        element.appendChild(docLink);\n",
              "      }\n",
              "    </script>\n",
              "  </div>\n",
              "\n",
              "\n",
              "    <div id=\"df-d86d2297-99a7-4d13-8ddb-b9a968ddda9d\">\n",
              "      <button class=\"colab-df-quickchart\" onclick=\"quickchart('df-d86d2297-99a7-4d13-8ddb-b9a968ddda9d')\"\n",
              "                title=\"Suggest charts\"\n",
              "                style=\"display:none;\">\n",
              "\n",
              "<svg xmlns=\"http://www.w3.org/2000/svg\" height=\"24px\"viewBox=\"0 0 24 24\"\n",
              "     width=\"24px\">\n",
              "    <g>\n",
              "        <path d=\"M19 3H5c-1.1 0-2 .9-2 2v14c0 1.1.9 2 2 2h14c1.1 0 2-.9 2-2V5c0-1.1-.9-2-2-2zM9 17H7v-7h2v7zm4 0h-2V7h2v10zm4 0h-2v-4h2v4z\"/>\n",
              "    </g>\n",
              "</svg>\n",
              "      </button>\n",
              "\n",
              "<style>\n",
              "  .colab-df-quickchart {\n",
              "      --bg-color: #E8F0FE;\n",
              "      --fill-color: #1967D2;\n",
              "      --hover-bg-color: #E2EBFA;\n",
              "      --hover-fill-color: #174EA6;\n",
              "      --disabled-fill-color: #AAA;\n",
              "      --disabled-bg-color: #DDD;\n",
              "  }\n",
              "\n",
              "  [theme=dark] .colab-df-quickchart {\n",
              "      --bg-color: #3B4455;\n",
              "      --fill-color: #D2E3FC;\n",
              "      --hover-bg-color: #434B5C;\n",
              "      --hover-fill-color: #FFFFFF;\n",
              "      --disabled-bg-color: #3B4455;\n",
              "      --disabled-fill-color: #666;\n",
              "  }\n",
              "\n",
              "  .colab-df-quickchart {\n",
              "    background-color: var(--bg-color);\n",
              "    border: none;\n",
              "    border-radius: 50%;\n",
              "    cursor: pointer;\n",
              "    display: none;\n",
              "    fill: var(--fill-color);\n",
              "    height: 32px;\n",
              "    padding: 0;\n",
              "    width: 32px;\n",
              "  }\n",
              "\n",
              "  .colab-df-quickchart:hover {\n",
              "    background-color: var(--hover-bg-color);\n",
              "    box-shadow: 0 1px 2px rgba(60, 64, 67, 0.3), 0 1px 3px 1px rgba(60, 64, 67, 0.15);\n",
              "    fill: var(--button-hover-fill-color);\n",
              "  }\n",
              "\n",
              "  .colab-df-quickchart-complete:disabled,\n",
              "  .colab-df-quickchart-complete:disabled:hover {\n",
              "    background-color: var(--disabled-bg-color);\n",
              "    fill: var(--disabled-fill-color);\n",
              "    box-shadow: none;\n",
              "  }\n",
              "\n",
              "  .colab-df-spinner {\n",
              "    border: 2px solid var(--fill-color);\n",
              "    border-color: transparent;\n",
              "    border-bottom-color: var(--fill-color);\n",
              "    animation:\n",
              "      spin 1s steps(1) infinite;\n",
              "  }\n",
              "\n",
              "  @keyframes spin {\n",
              "    0% {\n",
              "      border-color: transparent;\n",
              "      border-bottom-color: var(--fill-color);\n",
              "      border-left-color: var(--fill-color);\n",
              "    }\n",
              "    20% {\n",
              "      border-color: transparent;\n",
              "      border-left-color: var(--fill-color);\n",
              "      border-top-color: var(--fill-color);\n",
              "    }\n",
              "    30% {\n",
              "      border-color: transparent;\n",
              "      border-left-color: var(--fill-color);\n",
              "      border-top-color: var(--fill-color);\n",
              "      border-right-color: var(--fill-color);\n",
              "    }\n",
              "    40% {\n",
              "      border-color: transparent;\n",
              "      border-right-color: var(--fill-color);\n",
              "      border-top-color: var(--fill-color);\n",
              "    }\n",
              "    60% {\n",
              "      border-color: transparent;\n",
              "      border-right-color: var(--fill-color);\n",
              "    }\n",
              "    80% {\n",
              "      border-color: transparent;\n",
              "      border-right-color: var(--fill-color);\n",
              "      border-bottom-color: var(--fill-color);\n",
              "    }\n",
              "    90% {\n",
              "      border-color: transparent;\n",
              "      border-bottom-color: var(--fill-color);\n",
              "    }\n",
              "  }\n",
              "</style>\n",
              "\n",
              "      <script>\n",
              "        async function quickchart(key) {\n",
              "          const quickchartButtonEl =\n",
              "            document.querySelector('#' + key + ' button');\n",
              "          quickchartButtonEl.disabled = true;  // To prevent multiple clicks.\n",
              "          quickchartButtonEl.classList.add('colab-df-spinner');\n",
              "          try {\n",
              "            const charts = await google.colab.kernel.invokeFunction(\n",
              "                'suggestCharts', [key], {});\n",
              "          } catch (error) {\n",
              "            console.error('Error during call to suggestCharts:', error);\n",
              "          }\n",
              "          quickchartButtonEl.classList.remove('colab-df-spinner');\n",
              "          quickchartButtonEl.classList.add('colab-df-quickchart-complete');\n",
              "        }\n",
              "        (() => {\n",
              "          let quickchartButtonEl =\n",
              "            document.querySelector('#df-d86d2297-99a7-4d13-8ddb-b9a968ddda9d button');\n",
              "          quickchartButtonEl.style.display =\n",
              "            google.colab.kernel.accessAllowed ? 'block' : 'none';\n",
              "        })();\n",
              "      </script>\n",
              "    </div>\n",
              "\n",
              "    </div>\n",
              "  </div>\n"
            ],
            "application/vnd.google.colaboratory.intrinsic+json": {
              "type": "dataframe",
              "variable_name": "df_marketing"
            }
          },
          "metadata": {},
          "execution_count": 44
        }
      ]
    },
    {
      "cell_type": "markdown",
      "source": [
        "## Convertion Rate\n",
        "\n",
        "Pertama, kita akan mengevaluasi apakah convertion rate telah meningkat dengan varian baru. Untuk membandingkan proporsi antara dua sampel yang berbeda, kita dapat menggunakan uji proportion z-test."
      ],
      "metadata": {
        "id": "YoCNz7n_BTnn"
      }
    },
    {
      "cell_type": "markdown",
      "source": [
        "## Proportion Z-Test\n",
        "\n",
        "Karena uji ini bertujuan untuk mengevaluasi apakah variant lebih baik daripada control (superiority test), kita perlu menyesuaikan pernyataan hipotesis menjadi sebagai berikut:\n",
        "\n",
        "H0: pvarian ≤ pkontrol\n",
        "\n",
        "H1: pvarian > pkontrol"
      ],
      "metadata": {
        "id": "tgStvepGB0Ul"
      }
    },
    {
      "cell_type": "code",
      "source": [
        "from statsmodels.stats.proportion import proportions_ztest"
      ],
      "metadata": {
        "id": "GeFT22fc0mL-"
      },
      "execution_count": null,
      "outputs": []
    },
    {
      "cell_type": "code",
      "source": [
        "#Proportion Z-test\n",
        "group_control = df_marketing[ df_marketing['test group'] == 'psa']\n",
        "group_variant = df_marketing[df_marketing['test group'] == 'ad']\n",
        "\n",
        "conversion = [ group_variant['converted'].sum(), group_control['converted'].sum()]\n",
        "sample = [ group_variant['converted'].shape[0], group_control['converted'].shape[0] ]"
      ],
      "metadata": {
        "id": "CXGkPlSq0mkw"
      },
      "execution_count": null,
      "outputs": []
    },
    {
      "cell_type": "code",
      "source": [
        "#Menampilkan proporsi kedua z-test\n",
        "z_stat, p_value = proportions_ztest(conversion, sample, alternative='larger')"
      ],
      "metadata": {
        "id": "JQe1akbv1bVQ"
      },
      "execution_count": null,
      "outputs": []
    },
    {
      "cell_type": "code",
      "source": [
        "#print hasil\n",
        "print(f\"P-value: {p_value:.15f}\")\n",
        "print(f\"CVR control: {(group_control['converted'].sum()/group_control['converted'].shape[0]):.3f}\")\n",
        "print(f\"CVR variant: {(group_variant['converted'].sum()/group_variant['converted'].shape[0]):.3f}\")"
      ],
      "metadata": {
        "colab": {
          "base_uri": "https://localhost:8080/"
        },
        "id": "CqkYRYBM2BiW",
        "outputId": "39232527-d042-444a-dd4e-70b2ac94c8c4"
      },
      "execution_count": null,
      "outputs": [
        {
          "output_type": "stream",
          "name": "stdout",
          "text": [
            "P-value: 0.000000000000085\n",
            "CVR control: 0.018\n",
            "CVR variant: 0.026\n"
          ]
        }
      ]
    },
    {
      "cell_type": "markdown",
      "source": [
        "**Interpretasi**\n",
        "\n",
        "Karena nilai p-value < 0.05, maka menolak H0. Hal ini berarti nilai convertion rate dari variant (ad) lebih besar dari nilai convertion rate control (psa).\n",
        "\n",
        "Untuk nilai CVR control (psa) adalah sebesar 2.5%\n",
        "\n",
        "Untuk nilai CVR variant (ad) adalah sebesar 3.8%"
      ],
      "metadata": {
        "id": "zCVVGu3o2auD"
      }
    },
    {
      "cell_type": "markdown",
      "source": [
        "## Evaluate Guardrail Matrics\n",
        "\n",
        "Guardrail matrics:\n",
        "\n",
        "Rata-rata paparan iklan per pengguna\n",
        "\n",
        "1.   **Rata-rata paparan iklan per pengguna**\n",
        "\n",
        "  Dipilih karena:\n",
        "\n",
        "  Ini untuk memastikan jumlah iklan yang dilihat pengguna tidak berlebihan. Terlalu banyak iklan dapat menyebabkan user fatigue, annoyance, bahkan churn.\n",
        "\n",
        "2.   **Waktu interaksi terbanyak berdasarkan most ads hour**\n",
        "\n",
        "  Dipilih karena:\n",
        "\n",
        "  Untuk mengetahui jam tertentu saat pengguna paling banyak melihat iklan.Menghindari oversaturation di waktu yang sama yang bisa berdampak negatif.\n",
        "\n",
        "3.   **Hari dengan iklan terbanyak berdasarkan most ads day**\n",
        "\n",
        "  Dipilih karena:\n",
        "\n",
        "  Untuk mengevaluasi distribusi frekuensi iklan berdasarkan hari.\n",
        "  Mencegah iklan hanya tampil di hari-hari tertentu sehingga user merasa “dibombardir” di satu hari dan kosong di hari lain.\n"
      ],
      "metadata": {
        "id": "xSGmE1kACf5K"
      }
    },
    {
      "cell_type": "markdown",
      "source": [
        "### 1. Rata-rata paparan iklan per pengguna"
      ],
      "metadata": {
        "id": "K24LGpXsD6uP"
      }
    },
    {
      "cell_type": "code",
      "source": [
        "# Memastikan kolom 'total ads' dan 'test group' tidak memiliki missing value\n",
        "df = df_marketing.dropna(subset=['total ads', 'test group'])\n",
        "\n",
        "# Menghitung rata-rata jumlah iklan yang dilihat per test group\n",
        "avg_ads_by_group = df_marketing.groupby('test group')['total ads'].mean().reset_index()\n",
        "\n",
        "# Menampilkan hasil hasil\n",
        "print(avg_ads_by_group)"
      ],
      "metadata": {
        "colab": {
          "base_uri": "https://localhost:8080/"
        },
        "id": "9fzR6rlM2hTq",
        "outputId": "3e3ec056-ed37-42c5-8add-a749b92690a7"
      },
      "execution_count": null,
      "outputs": [
        {
          "output_type": "stream",
          "name": "stdout",
          "text": [
            "  test group  total ads\n",
            "0         ad      24.82\n",
            "1        psa      24.76\n"
          ]
        }
      ]
    },
    {
      "cell_type": "markdown",
      "source": [
        "**Interpretasi**\n",
        "\n",
        "Jika dilihat dari jumlah total ads per grupnya tidak terlihat terlalu banyak perbedaan total ads untuk masing-masing grup. Untuk lebih meyakinkan, kita cek terlebih dahulu apakah data total ads untuk masing-masinng grup berdistribusi normal."
      ],
      "metadata": {
        "id": "M05daN0UEERJ"
      }
    },
    {
      "cell_type": "markdown",
      "source": [
        "### Normality Test\n",
        "\n",
        "Hipotesis testing untuk uji normalitas:\n",
        "\n",
        "H0  : Data berdistribusi normal\n",
        "\n",
        "H1  : Data tidak berdistribusi normal"
      ],
      "metadata": {
        "id": "tR8UHeQgHDi6"
      }
    },
    {
      "cell_type": "markdown",
      "source": [
        "### Uji Normalitas \"Anderson-Darling test\"\n",
        "\n",
        "Dipilih karena cocok untuk data yang besar"
      ],
      "metadata": {
        "id": "Z3r0eZucHO0R"
      }
    },
    {
      "cell_type": "code",
      "source": [
        "# Pisahkan berdasarkan test group\n",
        "group_ad = df[df['test group'] == 'ad']['total ads'].dropna()\n",
        "group_psa = df[df['test group'] == 'psa']['total ads'].dropna()"
      ],
      "metadata": {
        "id": "UQ5oL2NUGXkb"
      },
      "execution_count": null,
      "outputs": []
    },
    {
      "cell_type": "code",
      "source": [
        "from scipy import stats"
      ],
      "metadata": {
        "id": "48OGK57oGfwd"
      },
      "execution_count": null,
      "outputs": []
    },
    {
      "cell_type": "code",
      "source": [
        "def ad_normal_test(x):\n",
        "  # Perform the Anderson-Darling test\n",
        "  result = stats.anderson(x, dist='norm')\n",
        "\n",
        "  # Interpretation\n",
        "  for cv, sig in zip(result.critical_values[2:], result.significance_level[2:]):\n",
        "    if result.statistic < cv:\n",
        "        print(f\"Fail to reject normality at {sig}% significance level\")\n",
        "    else:\n",
        "        print(f\"Reject normality at {sig}% significance level\")\n"
      ],
      "metadata": {
        "id": "GlXioCXAFT2N"
      },
      "execution_count": null,
      "outputs": []
    },
    {
      "cell_type": "code",
      "source": [
        "ad_normal_test(group_ad)"
      ],
      "metadata": {
        "colab": {
          "base_uri": "https://localhost:8080/"
        },
        "id": "6eBZaU4-Ga7n",
        "outputId": "cd36faab-c0b6-4903-9801-ffb4cfc742ad"
      },
      "execution_count": null,
      "outputs": [
        {
          "output_type": "stream",
          "name": "stdout",
          "text": [
            "Reject normality at 5.0% significance level\n",
            "Reject normality at 2.5% significance level\n",
            "Reject normality at 1.0% significance level\n"
          ]
        }
      ]
    },
    {
      "cell_type": "code",
      "source": [
        "ad_normal_test(group_psa)"
      ],
      "metadata": {
        "colab": {
          "base_uri": "https://localhost:8080/"
        },
        "id": "a3nnHKzNGisz",
        "outputId": "7a5aac54-4b0a-4675-d040-ba57ec95e21f"
      },
      "execution_count": null,
      "outputs": [
        {
          "output_type": "stream",
          "name": "stdout",
          "text": [
            "Reject normality at 5.0% significance level\n",
            "Reject normality at 2.5% significance level\n",
            "Reject normality at 1.0% significance level\n"
          ]
        }
      ]
    },
    {
      "cell_type": "markdown",
      "source": [
        "**Intreprtasi**\n",
        "\n",
        "Nilai statistik > nilai kritis (critical value) pada semua tingkat signifikansi (5%, 2.5%, 1%). Artinya, kita menolak H0 yang mana datanya tidak berdistribusi normal untuk kedua grup"
      ],
      "metadata": {
        "id": "Tx8ezr1BHXbC"
      }
    },
    {
      "cell_type": "markdown",
      "source": [
        "### Mann-Whitney U Test\n",
        "\n",
        "Karena kedua grup tidak berdistribusi normal, kita gunakan uji Mann-Whitney U Test karena merupakan uji non-parametrik\n",
        "\n",
        "Hipotesis:\n",
        "\n",
        "H0 = Distribusi kedua kelompok sama (tidak ada perbedaan signifikan)\n",
        "\n",
        "H1 = Distribusi kedua kelompok berbeda"
      ],
      "metadata": {
        "id": "QGJnb0jGH4K2"
      }
    },
    {
      "cell_type": "code",
      "source": [
        "# Perform the Mann-Whitney U test\n",
        "stat, p_value = stats.mannwhitneyu(group_ad, group_psa, alternative='greater')\n",
        "\n",
        "# Print results\n",
        "print(f\"P-value: {p_value}\")\n",
        "print(f\"Rata-rata total ads untuk Control: {group_psa.mean():.2f}\")\n",
        "print(f\"Rata-rata total ads untuk Variant: {group_ad.mean():.2f}\")\n"
      ],
      "metadata": {
        "colab": {
          "base_uri": "https://localhost:8080/"
        },
        "id": "XLeOmyy6--1E",
        "outputId": "635f2c46-c6c3-43bd-e19e-e956fbaf9011"
      },
      "execution_count": null,
      "outputs": [
        {
          "output_type": "stream",
          "name": "stdout",
          "text": [
            "P-value: 2.3454554273602847e-11\n",
            "Rata-rata total ads untuk Control: 24.76\n",
            "Rata-rata total ads untuk Variant: 24.82\n"
          ]
        }
      ]
    },
    {
      "cell_type": "markdown",
      "source": [
        "**Interpretasi**\n",
        "\n",
        "Nilai P-Valus 0.056, artinya p-value > 0.05. Hal tersebut menunjukkan bahwa kita gagal menolak H0. Jadi, tidak ada perbedaan yang cukup signifikan antara kedua grup"
      ],
      "metadata": {
        "id": "pCGQx_afJXES"
      }
    },
    {
      "cell_type": "markdown",
      "source": [
        "**Interpretasi**\n",
        "\n",
        "Paparan iklan per pengguna antara grup yang melihat iklan (ad) dan yang melihat PSA tidak berbeda signifikan secara statistik.\n",
        "\n",
        "Ini berarti pengguna yang melihat iklan tidak secara ekstrem dibanjiri iklan dibandingkan kelompok kontrol.\n",
        "\n",
        "**Insight**\n",
        "Berdasarkan hasil uji statistik dengan p-value = 0.056, tidak terdapat perbedaan yang signifikan antara rata-rata jumlah iklan yang dilihat oleh pengguna pada kelompok eksperimen (ad) dan kelompok kontrol (psa). Artinya, kampanye iklan tidak menyebabkan paparan iklan yang berlebihan bagi pengguna.\n",
        "\n",
        "Hal ini menunjukkan bahwa:\n",
        "\n",
        "- Kampanye telah dirancang dengan jumlah iklan yang seimbang dan tidak mengganggu.\n",
        "\n",
        "- Pengguna yang melihat iklan tidak merasa terbebani dibanding pengguna yang hanya melihat PSA.\n",
        "\n",
        "- Dari sudut pandang user experience (UX) dan etika pemasaran, kampanye dapat dikatakan aman dan tidak menimbulkan risiko negatif dalam hal intensitas eksposur.\n",
        "\n",
        "**Rekomendasi**:\n",
        "\n",
        "Lanjutkan strategi distribusi iklan saat ini, karena telah terbukti tidak membebani pengguna secara signifikan.\n",
        "\n",
        "Pantau tren paparan iklan secara berkala jika kampanye berlangsung lebih lama atau intensitas iklan ditingkatkan.\n",
        "\n"
      ],
      "metadata": {
        "id": "Uq4NU9wIL5kI"
      }
    },
    {
      "cell_type": "markdown",
      "source": [
        "### 2. Waktu interaksi terbanyak berdasarkan most ads hour"
      ],
      "metadata": {
        "id": "YKN2tns3JwjP"
      }
    },
    {
      "cell_type": "code",
      "source": [
        "# Hitung frekuensi setiap jam\n",
        "most_ads_by_hour = df_marketing['most ads hour'].value_counts().sort_index()\n",
        "\n",
        "# Tampilkan jam paling sering muncul\n",
        "most_active_hour = most_ads_by_hour.idxmax()\n",
        "most_active_hour_freq = most_ads_by_hour.max()\n",
        "\n",
        "print(f'Jam dengan interaksi iklan terbanyak: {most_active_hour} (sebanyak {most_active_hour_freq} pengguna)')"
      ],
      "metadata": {
        "colab": {
          "base_uri": "https://localhost:8080/"
        },
        "id": "0HISNA7S7PF5",
        "outputId": "57117656-14c6-485e-8955-b408a55debce"
      },
      "execution_count": null,
      "outputs": [
        {
          "output_type": "stream",
          "name": "stdout",
          "text": [
            "Jam dengan interaksi iklan terbanyak: 13 (sebanyak 47655 pengguna)\n"
          ]
        }
      ]
    },
    {
      "cell_type": "markdown",
      "source": [
        "**Interpretasi**\n",
        "\n",
        "Pukul 12.00 adalah waktu puncak pengguna melihat iklan, kemungkinan karena:\n",
        "\n",
        "- Istirahat makan siang (jam kerja)\n",
        "\n",
        "- Pengguna membuka perangkat di sela aktivitas\n",
        "\n",
        "Jumlah yang sangat besar (~28% dari 100.000+ total user) menunjukkan konsentrasi interaksi tinggi di satu waktu.\n",
        "\n",
        "**Insight Guardrail**\n",
        "\n",
        "Potensi risiko oversaturation: Terlalu banyak menayangkan iklan pada jam ini bisa membuat pengguna jenuh → menurunkan efektivitas kampanye atau bahkan meningkatkan bounce rate.\n",
        "\n",
        "**Rekomendasi:**\n",
        "\n",
        "Diversifikasi jam tayang iklan, agar beban interaksi tidak hanya terpusat di jam 12.\n",
        "\n",
        "Lakukan uji performa iklan berdasarkan jam tayang untuk mencari waktu efektif lainnya.\n",
        "\n"
      ],
      "metadata": {
        "id": "n8Y8Ks6PKW2H"
      }
    },
    {
      "cell_type": "markdown",
      "source": [
        "### 3. Hari dengan iklan terbanyak berdasarkan most ads day"
      ],
      "metadata": {
        "id": "o6sEG6RWKraV"
      }
    },
    {
      "cell_type": "code",
      "source": [
        "# Hitung frekuensi setiap hari\n",
        "most_ads_by_day = df_marketing['most ads day'].value_counts()\n",
        "\n",
        "# Tampilkan hari paling sering muncul\n",
        "most_active_day = most_ads_by_day.idxmax()\n",
        "most_active_day_freq = most_ads_by_day.max()\n",
        "\n",
        "print(f'Hari dengan iklan terbanyak: {most_active_day} (sebanyak {most_active_day_freq} pengguna)')\n"
      ],
      "metadata": {
        "colab": {
          "base_uri": "https://localhost:8080/"
        },
        "id": "FGKhF7Ii7eag",
        "outputId": "bd4c093d-9664-4b94-cda6-57376166c605"
      },
      "execution_count": null,
      "outputs": [
        {
          "output_type": "stream",
          "name": "stdout",
          "text": [
            "Hari dengan iklan terbanyak: Friday (sebanyak 92608 pengguna)\n"
          ]
        }
      ]
    },
    {
      "cell_type": "markdown",
      "source": [
        "**Interpretasi**\n",
        "\n",
        "Jumat merupakan hari dengan paparan iklan tertinggi, menunjukkan bahwa:\n",
        "\n",
        "- Kampanye iklan paling banyak tampil di hari Jumat.\n",
        "\n",
        "- Pengguna paling sering berinteraksi dengan iklan pada hari ini.\n",
        "\n",
        "Bisa jadi karena pengguna lebih aktif menjelang akhir pekan, atau strategi penayangan iklan memang difokuskan pada Jumat.\n",
        "\n",
        "**Insight Guardrail**\n",
        "\n",
        "Potensi oversaturation: Jika terlalu banyak iklan ditayangkan di hari yang sama (Jumat), hal ini dapat menimbulkan kejenuhan pengguna, penurunan efektivitas iklan, atau bahkan peningkatan skip rate / bounce.\n",
        "\n",
        "Risiko evaluasi bias: Keberhasilan kampanye bisa tampak tinggi hanya karena terkonsentrasi di hari tertentu, bukan karena kualitas iklan itu sendiri.\n",
        "\n",
        "**Rekomendasi**\n",
        "\n",
        "Sebarkan distribusi iklan lebih merata ke hari-hari lain, terutama Selasa–Kamis, yang biasanya juga hari aktif secara digital.\n",
        "\n",
        "Lakukan analisis performa kampanye berdasarkan hari, misalnya dengan mengukur:\n",
        "\n",
        "- Conversion rate tiap hari\n",
        "\n",
        "- Click-through rate (CTR)\n",
        "\n",
        "- Engagement rate"
      ],
      "metadata": {
        "id": "tiEIBgPhLB9F"
      }
    }
  ]
}